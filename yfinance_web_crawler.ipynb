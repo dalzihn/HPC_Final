{
 "cells": [
  {
   "cell_type": "markdown",
   "id": "d581a20d",
   "metadata": {},
   "source": [
    "Import necessary libraries"
   ]
  },
  {
   "cell_type": "code",
   "execution_count": 1,
   "id": "bfed708c",
   "metadata": {},
   "outputs": [],
   "source": [
    "import pandas as pd\n",
    "import time\n",
    "from datetime import datetime\n",
    "import yfinance as yf\n",
    "import matplotlib.pyplot as plt\n",
    "import seaborn as sns\n",
    "from sklearn.preprocessing import MinMaxScaler"
   ]
  },
  {
   "cell_type": "code",
   "execution_count": 2,
   "id": "ced80713",
   "metadata": {},
   "outputs": [],
   "source": [
    "# Crawling data for selected tickers\n",
    "tickers = [\"QBTS\", \"LCID\", \"TSLA\", \"NVDA\", \"LYFT\"]\n",
    "#Determine start and end date\n",
    "start_date = \"2020-01-01\"\n",
    "end_date = datetime.now()"
   ]
  },
  {
   "cell_type": "code",
   "execution_count": 3,
   "id": "a7c42a18",
   "metadata": {},
   "outputs": [
    {
     "name": "stdout",
     "output_type": "stream",
     "text": [
      "YF.download() has changed argument auto_adjust default to True\n"
     ]
    },
    {
     "name": "stderr",
     "output_type": "stream",
     "text": [
      "[*********************100%***********************]  1 of 1 completed\n",
      "[*********************100%***********************]  1 of 1 completed\n",
      "[*********************100%***********************]  1 of 1 completed\n",
      "[*********************100%***********************]  1 of 1 completed\n",
      "[*********************100%***********************]  1 of 1 completed\n"
     ]
    }
   ],
   "source": [
    "# Get raw file for each ticker\n",
    "for ticker in tickers :\n",
    "\n",
    "    # Dowload each ticker with yfinance library and time period = 1\n",
    "    data = yf.download(ticker, start= start_date, end= end_date, interval= '1d')\n",
    "    \n",
    "    # Reset index \n",
    "    data.reset_index(inplace= True)\n",
    "    data['Ticker'] = ticker\n",
    "    data.to_csv(f\"{ticker}.csv\",index = False)\n",
    "    time.sleep(2)"
   ]
  },
  {
   "cell_type": "markdown",
   "id": "43c40b1c",
   "metadata": {},
   "source": [
    "# EDA"
   ]
  },
  {
   "cell_type": "code",
   "execution_count": 4,
   "id": "ea27fb01",
   "metadata": {},
   "outputs": [
    {
     "data": {
      "text/html": [
       "<div>\n",
       "<style scoped>\n",
       "    .dataframe tbody tr th:only-of-type {\n",
       "        vertical-align: middle;\n",
       "    }\n",
       "\n",
       "    .dataframe tbody tr th {\n",
       "        vertical-align: top;\n",
       "    }\n",
       "\n",
       "    .dataframe thead th {\n",
       "        text-align: right;\n",
       "    }\n",
       "</style>\n",
       "<table border=\"1\" class=\"dataframe\">\n",
       "  <thead>\n",
       "    <tr style=\"text-align: right;\">\n",
       "      <th></th>\n",
       "      <th>Date</th>\n",
       "      <th>Close</th>\n",
       "      <th>High</th>\n",
       "      <th>Low</th>\n",
       "      <th>Open</th>\n",
       "      <th>Volume</th>\n",
       "      <th>Ticker</th>\n",
       "    </tr>\n",
       "  </thead>\n",
       "  <tbody>\n",
       "    <tr>\n",
       "      <th>1</th>\n",
       "      <td>2020-12-11</td>\n",
       "      <td>10.149999618530273</td>\n",
       "      <td>10.899999618530273</td>\n",
       "      <td>10.0</td>\n",
       "      <td>10.25</td>\n",
       "      <td>119400</td>\n",
       "      <td>QBTS</td>\n",
       "    </tr>\n",
       "    <tr>\n",
       "      <th>2</th>\n",
       "      <td>2020-12-14</td>\n",
       "      <td>10.15999984741211</td>\n",
       "      <td>10.59000015258789</td>\n",
       "      <td>10.149999618530273</td>\n",
       "      <td>10.59000015258789</td>\n",
       "      <td>368700</td>\n",
       "      <td>QBTS</td>\n",
       "    </tr>\n",
       "    <tr>\n",
       "      <th>3</th>\n",
       "      <td>2020-12-15</td>\n",
       "      <td>10.109999656677246</td>\n",
       "      <td>10.300000190734863</td>\n",
       "      <td>10.069999694824219</td>\n",
       "      <td>10.25</td>\n",
       "      <td>193700</td>\n",
       "      <td>QBTS</td>\n",
       "    </tr>\n",
       "    <tr>\n",
       "      <th>4</th>\n",
       "      <td>2020-12-16</td>\n",
       "      <td>10.140000343322754</td>\n",
       "      <td>10.25</td>\n",
       "      <td>10.100000381469727</td>\n",
       "      <td>10.15999984741211</td>\n",
       "      <td>354900</td>\n",
       "      <td>QBTS</td>\n",
       "    </tr>\n",
       "    <tr>\n",
       "      <th>5</th>\n",
       "      <td>2020-12-17</td>\n",
       "      <td>10.199999809265137</td>\n",
       "      <td>10.279999732971191</td>\n",
       "      <td>10.15999984741211</td>\n",
       "      <td>10.15999984741211</td>\n",
       "      <td>115500</td>\n",
       "      <td>QBTS</td>\n",
       "    </tr>\n",
       "  </tbody>\n",
       "</table>\n",
       "</div>"
      ],
      "text/plain": [
       "         Date               Close                High                 Low  \\\n",
       "1  2020-12-11  10.149999618530273  10.899999618530273                10.0   \n",
       "2  2020-12-14   10.15999984741211   10.59000015258789  10.149999618530273   \n",
       "3  2020-12-15  10.109999656677246  10.300000190734863  10.069999694824219   \n",
       "4  2020-12-16  10.140000343322754               10.25  10.100000381469727   \n",
       "5  2020-12-17  10.199999809265137  10.279999732971191   10.15999984741211   \n",
       "\n",
       "                Open  Volume Ticker  \n",
       "1              10.25  119400   QBTS  \n",
       "2  10.59000015258789  368700   QBTS  \n",
       "3              10.25  193700   QBTS  \n",
       "4  10.15999984741211  354900   QBTS  \n",
       "5  10.15999984741211  115500   QBTS  "
      ]
     },
     "execution_count": 4,
     "metadata": {},
     "output_type": "execute_result"
    }
   ],
   "source": [
    "# Combined data\n",
    "combined_data = pd.DataFrame()\n",
    "for t in tickers:\n",
    "    df = pd.read_csv(f\"{t}.csv\")\n",
    "    combined_data = pd.concat([combined_data,df.drop(0)])\n",
    "combined_data.head()"
   ]
  },
  {
   "cell_type": "code",
   "execution_count": 5,
   "id": "cef15d59",
   "metadata": {},
   "outputs": [],
   "source": [
    "# path = 'TSLA.csv'\n",
    "# data = pd.read_csv(path)\n",
    "# data.describe().T"
   ]
  },
  {
   "cell_type": "code",
   "execution_count": 6,
   "id": "20581678",
   "metadata": {},
   "outputs": [
    {
     "name": "stdout",
     "output_type": "stream",
     "text": [
      "<class 'pandas.core.frame.DataFrame'>\n",
      "Index: 6321 entries, 1 to 1348\n",
      "Data columns (total 7 columns):\n",
      " #   Column  Non-Null Count  Dtype \n",
      "---  ------  --------------  ----- \n",
      " 0   Date    6321 non-null   object\n",
      " 1   Close   6321 non-null   object\n",
      " 2   High    6321 non-null   object\n",
      " 3   Low     6321 non-null   object\n",
      " 4   Open    6321 non-null   object\n",
      " 5   Volume  6321 non-null   object\n",
      " 6   Ticker  6321 non-null   object\n",
      "dtypes: object(7)\n",
      "memory usage: 395.1+ KB\n"
     ]
    }
   ],
   "source": [
    "combined_data.info()"
   ]
  },
  {
   "cell_type": "code",
   "execution_count": 7,
   "id": "3e97b04c",
   "metadata": {},
   "outputs": [
    {
     "data": {
      "text/html": [
       "<div>\n",
       "<style scoped>\n",
       "    .dataframe tbody tr th:only-of-type {\n",
       "        vertical-align: middle;\n",
       "    }\n",
       "\n",
       "    .dataframe tbody tr th {\n",
       "        vertical-align: top;\n",
       "    }\n",
       "\n",
       "    .dataframe thead th {\n",
       "        text-align: right;\n",
       "    }\n",
       "</style>\n",
       "<table border=\"1\" class=\"dataframe\">\n",
       "  <thead>\n",
       "    <tr style=\"text-align: right;\">\n",
       "      <th></th>\n",
       "      <th>count</th>\n",
       "      <th>unique</th>\n",
       "      <th>top</th>\n",
       "      <th>freq</th>\n",
       "    </tr>\n",
       "  </thead>\n",
       "  <tbody>\n",
       "    <tr>\n",
       "      <th>Date</th>\n",
       "      <td>6321</td>\n",
       "      <td>1348</td>\n",
       "      <td>2025-05-07</td>\n",
       "      <td>5</td>\n",
       "    </tr>\n",
       "    <tr>\n",
       "      <th>Close</th>\n",
       "      <td>6321</td>\n",
       "      <td>4802</td>\n",
       "      <td>9.880000114440918</td>\n",
       "      <td>38</td>\n",
       "    </tr>\n",
       "    <tr>\n",
       "      <th>High</th>\n",
       "      <td>6321</td>\n",
       "      <td>5035</td>\n",
       "      <td>9.899999618530273</td>\n",
       "      <td>47</td>\n",
       "    </tr>\n",
       "    <tr>\n",
       "      <th>Low</th>\n",
       "      <td>6321</td>\n",
       "      <td>4950</td>\n",
       "      <td>9.880000114440918</td>\n",
       "      <td>31</td>\n",
       "    </tr>\n",
       "    <tr>\n",
       "      <th>Open</th>\n",
       "      <td>6321</td>\n",
       "      <td>4880</td>\n",
       "      <td>9.880000114440918</td>\n",
       "      <td>37</td>\n",
       "    </tr>\n",
       "    <tr>\n",
       "      <th>Volume</th>\n",
       "      <td>6321</td>\n",
       "      <td>6262</td>\n",
       "      <td>42200</td>\n",
       "      <td>3</td>\n",
       "    </tr>\n",
       "    <tr>\n",
       "      <th>Ticker</th>\n",
       "      <td>6321</td>\n",
       "      <td>5</td>\n",
       "      <td>TSLA</td>\n",
       "      <td>1348</td>\n",
       "    </tr>\n",
       "  </tbody>\n",
       "</table>\n",
       "</div>"
      ],
      "text/plain": [
       "       count unique                top  freq\n",
       "Date    6321   1348         2025-05-07     5\n",
       "Close   6321   4802  9.880000114440918    38\n",
       "High    6321   5035  9.899999618530273    47\n",
       "Low     6321   4950  9.880000114440918    31\n",
       "Open    6321   4880  9.880000114440918    37\n",
       "Volume  6321   6262              42200     3\n",
       "Ticker  6321      5               TSLA  1348"
      ]
     },
     "execution_count": 7,
     "metadata": {},
     "output_type": "execute_result"
    }
   ],
   "source": [
    "combined_data.describe().T"
   ]
  },
  {
   "cell_type": "markdown",
   "id": "cfba8647",
   "metadata": {},
   "source": [
    "Transform Close\tHigh\tLow\tOpen\tVolume\tin data \n"
   ]
  },
  {
   "cell_type": "code",
   "execution_count": 8,
   "id": "f957f6ac",
   "metadata": {},
   "outputs": [],
   "source": [
    "numeric_cols = ['Close','High','Low','Open','Volume']\n",
    "for c in numeric_cols:\n",
    "    combined_data[c] = pd.to_numeric(combined_data[c],errors ='coerce')"
   ]
  },
  {
   "cell_type": "code",
   "execution_count": 9,
   "id": "a9fa0e26",
   "metadata": {},
   "outputs": [
    {
     "data": {
      "text/plain": [
       "Date      0\n",
       "Close     0\n",
       "High      0\n",
       "Low       0\n",
       "Open      0\n",
       "Volume    0\n",
       "Ticker    0\n",
       "dtype: int64"
      ]
     },
     "execution_count": 9,
     "metadata": {},
     "output_type": "execute_result"
    }
   ],
   "source": [
    "combined_data.isnull().sum()"
   ]
  },
  {
   "cell_type": "code",
   "execution_count": 10,
   "id": "432bd180",
   "metadata": {},
   "outputs": [
    {
     "data": {
      "text/plain": [
       "np.int64(0)"
      ]
     },
     "execution_count": 10,
     "metadata": {},
     "output_type": "execute_result"
    }
   ],
   "source": [
    "combined_data.duplicated().sum()"
   ]
  },
  {
   "cell_type": "markdown",
   "id": "6056bc64",
   "metadata": {},
   "source": [
    "check outlier"
   ]
  },
  {
   "cell_type": "code",
   "execution_count": 11,
   "id": "5c1fa743",
   "metadata": {},
   "outputs": [
    {
     "data": {
      "image/png": "[encoded data removed]",
      "text/plain": [
       "<Figure size 1000x500 with 1 Axes>"
      ]
     },
     "metadata": {},
     "output_type": "display_data"
    }
   ],
   "source": [
    "plt.figure(figsize = (10,5))\n",
    "sns.boxplot(data = combined_data)\n",
    "plt.xticks(rotation = 45)\n",
    "plt.tight_layout()\n",
    "plt.show()"
   ]
  },
  {
   "cell_type": "markdown",
   "id": "343e9952",
   "metadata": {},
   "source": [
    "relation between numeric columns"
   ]
  },
  {
   "cell_type": "code",
   "execution_count": 12,
   "id": "9436d536",
   "metadata": {},
   "outputs": [
    {
     "data": {
      "image/png": "[encoded data removed]",
      "text/plain": [
       "<Figure size 1000x500 with 2 Axes>"
      ]
     },
     "metadata": {},
     "output_type": "display_data"
    }
   ],
   "source": [
    "plt.figure(figsize=(10,5))\n",
    "sns.heatmap(combined_data[numeric_cols].corr(),annot= True)\n",
    "plt.tight_layout()\n",
    "plt.show()"
   ]
  },
  {
   "cell_type": "markdown",
   "id": "ad94ecf1",
   "metadata": {},
   "source": [
    "# preprocess"
   ]
  },
  {
   "cell_type": "code",
   "execution_count": 13,
   "id": "36b38cd0",
   "metadata": {},
   "outputs": [],
   "source": [
    "def preprocess_yfinane(df :pd.DataFrame, name :str)-> pd.DataFrame:\n",
    "    \"\"\"\n",
    "    This will preprocess yfinance data by dropping the first row, \n",
    "    dropping date column, transforming numberic columns to float \n",
    "    and applying Minmax normalisation.\n",
    "\n",
    "    Args:\n",
    "    df (pd.DataFrame) : Input a Dataframe for each ticker data\n",
    "\n",
    "    Returns:\n",
    "        pd.DataFrame : Preprocessed DataFrame\n",
    "    \"\"\"\n",
    "\n",
    "    #copy df for not changing\n",
    "    df_processed = df.copy()\n",
    "    \n",
    "    # dropping the first row\n",
    "    df_processed = df_processed.drop(0).reset_index(drop=True)\n",
    "\n",
    "    #Convert date to datetime\n",
    "    df_processed['Date'] = pd.to_datetime(df_processed['Date'])\n",
    "\n",
    "    #Transform numeric columns\n",
    "    df_processed[numeric_cols] = df_processed[numeric_cols].astype(float)\n",
    "    \n",
    "    #Minmax normalisation for numic_rols (Except target variables)\n",
    "    cols = ['High','Low','Open','Volume']\n",
    "    scaler = MinMaxScaler()\n",
    "    df_processed[cols] = scaler.fit_transform(df_processed[cols])\n",
    "\n",
    "    # Output csv file\n",
    "    df_processed.to_csv(f\"{name}_preprocess.csv\")\n",
    "\n",
    "    return df_processed\n",
    "\n"
   ]
  },
  {
   "cell_type": "code",
   "execution_count": 14,
   "id": "82e10ec4",
   "metadata": {},
   "outputs": [],
   "source": [
    "for t in tickers:\n",
    "    data = pd.read_csv(f'{t}.csv')\n",
    "    data_preprocessed = preprocess_yfinane(data,F'{t}') \n",
    "    "
   ]
  },
  {
   "cell_type": "code",
   "execution_count": null,
   "id": "fe74371c",
   "metadata": {},
   "outputs": [],
   "source": []
  }
 ],
 "metadata": {
  "kernelspec": {
   "display_name": "venv",
   "language": "python",
   "name": "python3"
  },
  "language_info": {
   "codemirror_mode": {
    "name": "ipython",
    "version": 3
   },
   "file_extension": ".py",
   "mimetype": "text/x-python",
   "name": "python",
   "nbconvert_exporter": "python",
   "pygments_lexer": "ipython3",
   "version": "3.13.0"
  }
 },
 "nbformat": 4,
 "nbformat_minor": 5
}
